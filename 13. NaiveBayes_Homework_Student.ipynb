{
 "cells": [
  {
   "cell_type": "markdown",
   "metadata": {
    "id": "UnTZE3HF8f05"
   },
   "source": [
    "# 13장. 나이브 베이즈 (NaiveBayes)  과제"
   ]
  },
  {
   "cell_type": "markdown",
   "metadata": {
    "id": "dYJxWp6j8npp"
   },
   "source": [
    "## 1. 데이터 읽기"
   ]
  },
  {
   "cell_type": "markdown",
   "metadata": {},
   "source": [
    "### 1.1 SpamAssassin 데이터셋 다운 로드"
   ]
  },
  {
   "cell_type": "code",
   "execution_count": 1,
   "metadata": {
    "id": "lbb41k9n9QAE"
   },
   "outputs": [],
   "source": [
    "from io import BytesIO\n",
    "import requests\n",
    "import tarfile\n",
    "import os\n",
    "from scratch.machine_learning import split_data\n",
    "\n",
    "BASE_URL = \"https://spamassassin.apache.org/old/publiccorpus/\"\n",
    "FILES = [\"20021010_easy_ham.tar.bz2\",\n",
    "         \"20021010_hard_ham.tar.bz2\",\n",
    "         \"20021010_spam.tar.bz2\"]\n",
    "OUTPUT_DIR = 'spam_data'\n",
    "\n",
    "if os.path.exists(OUTPUT_DIR) is False:\n",
    "    for filename in FILES:\n",
    "        content = requests.get(f\"{BASE_URL}/{filename}\").content\n",
    "\n",
    "        fin = BytesIO(content)\n",
    "\n",
    "        with tarfile.open(fileobj=fin, mode='r:bz2') as tf:\n",
    "            tf.extractall(OUTPUT_DIR)"
   ]
  },
  {
   "cell_type": "markdown",
   "metadata": {},
   "source": [
    "### 1.2 메세지 클래스 정의"
   ]
  },
  {
   "cell_type": "code",
   "execution_count": 2,
   "metadata": {
    "id": "QiuEkgoAVCyT"
   },
   "outputs": [],
   "source": [
    "from typing import NamedTuple\n",
    "\n",
    "class Message(NamedTuple):\n",
    "    text: str\n",
    "    is_spam: bool"
   ]
  },
  {
   "cell_type": "markdown",
   "metadata": {},
   "source": [
    "### 1.3 이메일 본문 디코딩"
   ]
  },
  {
   "cell_type": "code",
   "execution_count": 3,
   "metadata": {},
   "outputs": [],
   "source": [
    "from email.parser import Parser\n",
    "\n",
    "def decode_email(msg_str):\n",
    "    p = Parser()\n",
    "    message = p.parsestr(msg_str)\n",
    "    decoded_message = ''\n",
    "    for part in message.walk():\n",
    "        if part.get_content_type() not in ('text/plain', 'text/html'): continue\n",
    "\n",
    "        charset = part.get_content_charset()\n",
    "        part_str = part.get_payload(decode=1)\n",
    "        try:\n",
    "            decoded_message += part_str.decode(charset)\n",
    "        except:\n",
    "            decoded_message += str(part_str)\n",
    "\n",
    "    return decoded_message"
   ]
  },
  {
   "cell_type": "markdown",
   "metadata": {},
   "source": [
    "### 1.3 이메일 텍스트 읽기 (Q)\n",
    "이메일의 제목과 본문 텍스트를 읽어서 Message 타입을 만들고 데이터 리스트를 생성하시오."
   ]
  },
  {
   "cell_type": "code",
   "execution_count": 4,
   "metadata": {
    "id": "dIrBCKg3Wnl7"
   },
   "outputs": [],
   "source": [
    "import glob\n",
    "import email\n",
    "from typing import List\n",
    "\n",
    "def read_emails(include_body : bool = False) -> List[Message]:\n",
    "    # modify the path to wherever you've put the files\n",
    "    path = 'spam_data/*/*'\n",
    "\n",
    "    data: List[Message] = []\n",
    "    # glob.glob returns every filename that matches the wildcarded path\n",
    "    for filename in glob.glob(path):\n",
    "        is_spam = \"ham\" not in filename\n",
    "\n",
    "        # There are some garbage characters in the emails, the errors='ignore'\n",
    "        # skips them instead of raising an exception.\n",
    "        with open(filename, errors='ignore') as email_file:\n",
    "            raw_email = email_file.read()\n",
    "            # your code\n",
    "            msgobj = email.message_from_string(raw_email)\n",
    "            body = decode_email(raw_email)\n",
    "            message = msgobj['Subject'] or \"\"\n",
    "            message = message + \" \" + body\n",
    "            data.append(Message(message, is_spam))\n",
    "            \n",
    "    return data"
   ]
  },
  {
   "cell_type": "code",
   "execution_count": 5,
   "metadata": {},
   "outputs": [
    {
     "name": "stdout",
     "output_type": "stream",
     "text": [
      "읽은 email 개수 : 3302\n"
     ]
    }
   ],
   "source": [
    "include_body = True\n",
    "data = read_emails(include_body= True)            \n",
    "print(\"읽은 email 개수 :\", len(data))"
   ]
  },
  {
   "cell_type": "markdown",
   "metadata": {},
   "source": [
    "## 2. NLTK 설치 및 테스트  "
   ]
  },
  {
   "cell_type": "markdown",
   "metadata": {},
   "source": [
    "### 2.1 NLTK설치 및 리소스 다운로드"
   ]
  },
  {
   "cell_type": "code",
   "execution_count": 6,
   "metadata": {},
   "outputs": [
    {
     "name": "stdout",
     "output_type": "stream",
     "text": [
      "Requirement already satisfied: nltk in c:\\users\\pc\\anaconda3\\envs\\data_mining\\lib\\site-packages (3.6.1)\n",
      "Requirement already satisfied: tqdm in c:\\users\\pc\\anaconda3\\envs\\data_mining\\lib\\site-packages (from nltk) (4.59.0)\n",
      "Requirement already satisfied: joblib in c:\\users\\pc\\anaconda3\\envs\\data_mining\\lib\\site-packages (from nltk) (1.0.1)\n",
      "Requirement already satisfied: click in c:\\users\\pc\\anaconda3\\envs\\data_mining\\lib\\site-packages (from nltk) (7.1.2)\n",
      "Requirement already satisfied: regex in c:\\users\\pc\\anaconda3\\envs\\data_mining\\lib\\site-packages (from nltk) (2021.4.4)\n"
     ]
    }
   ],
   "source": [
    "! pip install nltk"
   ]
  },
  {
   "cell_type": "code",
   "execution_count": 7,
   "metadata": {},
   "outputs": [
    {
     "name": "stdout",
     "output_type": "stream",
     "text": [
      "showing info https://raw.githubusercontent.com/nltk/nltk_data/gh-pages/index.xml\n"
     ]
    },
    {
     "data": {
      "text/plain": [
       "True"
      ]
     },
     "execution_count": 7,
     "metadata": {},
     "output_type": "execute_result"
    }
   ],
   "source": [
    "import nltk\n",
    "nltk.download()"
   ]
  },
  {
   "cell_type": "markdown",
   "metadata": {},
   "source": [
    "### 2.1 단어 토큰화 및 어간 추출 테스트"
   ]
  },
  {
   "cell_type": "markdown",
   "metadata": {},
   "source": [
    "#### 단어 토큰화"
   ]
  },
  {
   "cell_type": "code",
   "execution_count": 8,
   "metadata": {},
   "outputs": [
    {
     "name": "stdout",
     "output_type": "stream",
     "text": [
      "tokens :  ['This', 'was', 'not', 'the', 'map', 'we', 'found', 'in', 'Billy', \"Bones's\", 'chest', ',', 'but', 'an', 'accurate', 'copy', ',', 'complete', 'in', 'all', 'things', '--', 'names', 'and', 'heights', 'and', 'soundings', '--', 'with', 'the', 'single', 'exception', 'of', 'the', 'red', 'crosses', 'and', 'the', 'written', 'notes', '.']\n"
     ]
    }
   ],
   "source": [
    "from nltk.tokenize import TreebankWordTokenizer\n",
    "text=\"This was not the map we found in Billy Bones's chest, but an accurate copy, complete in all things--names and heights and soundings--with the single exception of the red crosses and the written notes.\"\n",
    "tokenizer=TreebankWordTokenizer()\n",
    "words = tokenizer.tokenize(text)\n",
    "print(\"tokens : \", words)"
   ]
  },
  {
   "cell_type": "markdown",
   "metadata": {},
   "source": [
    "#### 불용어"
   ]
  },
  {
   "cell_type": "code",
   "execution_count": 9,
   "metadata": {},
   "outputs": [
    {
     "name": "stdout",
     "output_type": "stream",
     "text": [
      "stopwords :  {'which', 'more', 'any', 'weren', \"hasn't\", 'here', 'have', 'them', 'than', 'o', 'through', 'when', 'own', \"doesn't\", 'shan', 'before', \"she's\", 'mightn', \"that'll\", 'both', 'then', 'too', 'if', 'were', 'during', 'this', 'your', 'we', 'but', 'from', 'hers', 'on', 'other', 'should', 'few', \"haven't\", \"you're\", \"you'll\", 'ain', 'do', 'i', 'off', 'am', 're', 'down', 'yourselves', 'be', 'does', 'being', 'most', 'ma', 'its', 'aren', 'between', 'while', 'these', 'to', 'yours', 'now', 'shouldn', \"you'd\", 'for', 'that', 'further', 'there', 'how', 'nor', 'will', 'or', \"didn't\", 'ourselves', \"weren't\", 'been', 't', 'under', 'wouldn', 'hasn', 'their', \"couldn't\", 'just', 'needn', 'are', 'you', 'over', 'once', \"wasn't\", 'did', \"mustn't\", 'such', 'until', 'my', 'haven', 'as', 'with', 've', 'd', 'out', \"shan't\", \"aren't\", 'she', 'into', 'only', \"won't\", \"hadn't\", 'about', 'by', 'why', 'wasn', 'because', 'itself', 'the', 'an', \"it's\", 'all', \"isn't\", \"wouldn't\", 'a', 'won', 'and', 'him', 'who', 'they', 'in', 'll', \"should've\", 'isn', 'against', 'themselves', 'couldn', 'his', 'where', 'of', \"mightn't\", \"shouldn't\", 'is', 'after', 'himself', 'some', 's', 'very', \"don't\", 'mustn', 'm', 'has', 'had', 'above', 'ours', 'whom', 'was', 'don', \"you've\", \"needn't\", 'what', 'didn', 'no', 'doesn', 'having', 'below', 'me', 'herself', 'it', 'same', 'yourself', 'our', 'again', 'can', 'so', 'y', 'those', 'each', 'hadn', 'theirs', 'myself', 'he', 'her', 'up', 'not', 'doing', 'at'}\n"
     ]
    }
   ],
   "source": [
    "from nltk.corpus import stopwords\n",
    "stopwords_set = set(stopwords.words('english'))\n",
    "print(\"stopwords : \", stopwords_set)"
   ]
  },
  {
   "cell_type": "markdown",
   "metadata": {},
   "source": [
    "#### 어간 추출"
   ]
  },
  {
   "cell_type": "code",
   "execution_count": 10,
   "metadata": {},
   "outputs": [
    {
     "name": "stdout",
     "output_type": "stream",
     "text": [
      "stem tokens :  41 ['thi', 'wa', 'not', 'the', 'map', 'we', 'found', 'in', 'billi', \"bones'\", 'chest', ',', 'but', 'an', 'accur', 'copi', ',', 'complet', 'in', 'all', 'thing', '--', 'name', 'and', 'height', 'and', 'sound', '--', 'with', 'the', 'singl', 'except', 'of', 'the', 'red', 'cross', 'and', 'the', 'written', 'note', '.']\n",
      "\n",
      "stem tokens without stopwords:  24 ['thi', 'map', 'found', 'billi', \"bones'\", 'chest', ',', 'accur', 'copi', ',', 'complet', 'thing', '--', 'name', 'height', 'sound', '--', 'singl', 'except', 'red', 'cross', 'written', 'note', '.']\n"
     ]
    }
   ],
   "source": [
    "from nltk.stem import PorterStemmer\n",
    "s = PorterStemmer()\n",
    "stem_words = [s.stem(w) for w in words]\n",
    "print(\"stem tokens : \", len(stem_words), stem_words)\n",
    "print(\"\")\n",
    "stem_words_wo_stopwords = [s.stem(w) for w in words if w not in stopwords_set]\n",
    "print(\"stem tokens without stopwords: \", \n",
    "      len(stem_words_wo_stopwords),\n",
    "      stem_words_wo_stopwords)"
   ]
  },
  {
   "cell_type": "markdown",
   "metadata": {},
   "source": [
    "### 2.3 토큰화 함수 (Q)\n",
    "Treebank Tokenizer를 사용해서 어간 추출 및 불용어 제거를 해보자."
   ]
  },
  {
   "cell_type": "code",
   "execution_count": 11,
   "metadata": {
    "id": "Ny6lEE8S7o7w"
   },
   "outputs": [],
   "source": [
    "from nltk.tokenize import TreebankWordTokenizer\n",
    "from nltk.stem import PorterStemmer\n",
    "from nltk.corpus import stopwords\n",
    "from typing import Set\n",
    "\n",
    "def tokenize(text: str) -> Set[str]:\n",
    "    # your code\n",
    "    tokenizer = TreebankWordTokenizer()\n",
    "    words = tokenizer.tokenize(text)\n",
    "    \n",
    "    stopwords_set = set(stopwords.words('english'))\n",
    "    \n",
    "    s = PorterStemmer()\n",
    "    words = [s.stem(w) for w in words if w not in stopwords_set]\n",
    "    \n",
    "    return set(words)                       # remove duplicates."
   ]
  },
  {
   "cell_type": "markdown",
   "metadata": {},
   "source": [
    "## 3. 나이브 베이즈 분류기  "
   ]
  },
  {
   "cell_type": "markdown",
   "metadata": {
    "id": "AfyIAKvLUzGl"
   },
   "source": [
    "### 3.1  NaiveBayesClassifier (Q)\n",
    "단어의 최소 빈도수를 설정해서 그 이하로 나오는 단어는 무시하도록 _thresholding_tokens 함수 작성하시오"
   ]
  },
  {
   "cell_type": "code",
   "execution_count": 12,
   "metadata": {
    "id": "XrYMT3FEU2mP"
   },
   "outputs": [],
   "source": [
    "from typing import List, Tuple, Dict, Iterable\n",
    "import math\n",
    "from collections import defaultdict\n",
    "import matplotlib.pyplot as plt\n",
    "\n",
    "class NaiveBayesClassifier:\n",
    "    def __init__(self, k: float = 0.5) -> None:\n",
    "        self.k = k  # smoothing factor\n",
    "\n",
    "        self.tokens: Set[str] = set()\n",
    "        self.token_spam_counts: Dict[str, int] = defaultdict(int)\n",
    "        self.token_ham_counts: Dict[str, int] = defaultdict(int)\n",
    "        self.spam_messages = self.ham_messages = 0\n",
    "\n",
    "    def train(self, \n",
    "              messages: Iterable[Message], \n",
    "              threshold: int = 0, \n",
    "              verbos : bool = True) -> None:\n",
    "        self._count_tokens(messages)\n",
    "        del_spam_count, del_ham_count = self._thresholding_tokens(messages, threshold)\n",
    "        \n",
    "        if verbos :\n",
    "            print(del_spam_count, \"tokens are deleted in spams \")\n",
    "            print(del_ham_count, \"tokens are deleted in hams \")\n",
    "            print(\"spam \", self.spam_messages)\n",
    "            print(\"ham \", self.ham_messages)\n",
    "            print(\"token\", len(self.tokens))\n",
    "            print(\"spam token\", len(self.token_spam_counts))\n",
    "            print(\"ham token\", len(self.token_ham_counts))\n",
    "\n",
    "            print(\"======= token probabilities ======= \")\n",
    "            self.print_token_probilities()\n",
    "    \n",
    "    def _count_tokens(self, messages: Iterable[Message]) -> None:\n",
    "        for message in messages:\n",
    "            # Increment message counts\n",
    "            if message.is_spam:\n",
    "                self.spam_messages += 1\n",
    "            else:\n",
    "                self.ham_messages += 1\n",
    "\n",
    "            # Increment word counts\n",
    "            for token in tokenize(message.text):\n",
    "                if message.is_spam:\n",
    "                    self.token_spam_counts[token] += 1\n",
    "                else:\n",
    "                    self.token_ham_counts[token] += 1\n",
    "                    \n",
    "    def _thresholding_tokens(self, \n",
    "                             messages: Iterable[Message], \n",
    "                             threshold: int = 0) -> Tuple[int, int]:\n",
    "        \n",
    "        del_spam_count = 0\n",
    "        del_ham_count = 0\n",
    "        # your code\n",
    "        for message in messages:\n",
    "            for token in tokenize(message.text):\n",
    "                if(self.token_spam_counts[token]<= threshold):\n",
    "                    #del self.token_spam_counts[token]\n",
    "                    #del_spam_count += 1\n",
    "                    self.token_spam_counts.pop(token)\n",
    "                    del_spam_count += 1\n",
    "                else:\n",
    "                    self.tokens.add(token)\n",
    "                \n",
    "                if(self.token_ham_counts[token]<=threshold):\n",
    "                    #del self.token_ham_counts[token]\n",
    "                    #del_ham_count += 1\n",
    "                    self.token_ham_counts.pop(token)\n",
    "                    del_ham_count += 1\n",
    "                else:\n",
    "                    self.tokens.add(token)\n",
    "        \n",
    "        return del_spam_count, del_ham_count\n",
    "        \n",
    "    def print_token_probilities(self, count=10):\n",
    "        for token in self.tokens:\n",
    "            p_token_spam, p_token_ham = self._probabilities(token)\n",
    "            print(token, \"(spam:\", p_token_spam, \"ham:\", p_token_ham, \")\")\n",
    "            count -= 1\n",
    "            if count == 0 : return\n",
    "\n",
    "    def token_histogram(self):\n",
    "        plt.figure(figsize=(15,8))\n",
    "        plt.subplot(2, 1, 1)\n",
    "        n, bins, patches = plt.hist(self.token_spam_counts.values(),\n",
    "                                    200,\n",
    "                                    facecolor=\"#2E495E\",\n",
    "                                    edgecolor=(0, 0, 0))\n",
    "        plt.title(\"Spam words\")\n",
    "        plt.xlabel(\"\")\n",
    "        plt.ylabel(\"Word Count\")\n",
    "\n",
    "        plt.subplot(2, 1, 2)\n",
    "        n, bins, patches = plt.hist(self.token_ham_counts.values(),\n",
    "                                    200,\n",
    "                                    facecolor=\"#2E495E\",\n",
    "                                    edgecolor=(0, 0, 0))\n",
    "        plt.title(\"Ham words\")\n",
    "        plt.xlabel(\"\")\n",
    "        plt.ylabel(\"Word Count\")\n",
    "\n",
    "        plt.show()\n",
    "        \n",
    "    def _probabilities(self, token: str) -> Tuple[float, float]:\n",
    "        \"\"\"returns P(token | spam) and P(token | not spam)\"\"\"\n",
    "        spam = self.token_spam_counts[token]\n",
    "        ham = self.token_ham_counts[token]\n",
    "\n",
    "        p_token_spam = (spam + self.k) / (self.spam_messages + 2 * self.k)\n",
    "        p_token_ham = (ham + self.k) / (self.ham_messages + 2 * self.k)\n",
    "\n",
    "        return p_token_spam, p_token_ham\n",
    "\n",
    "    def token_histogram(self):\n",
    "        plt.figure(figsize=(15,8))\n",
    "        plt.subplot(2, 1, 1)\n",
    "        n, bins, patches = plt.hist(self.token_spam_counts.values(),\n",
    "                                    200,\n",
    "                                    facecolor=\"#2E495E\",\n",
    "                                    edgecolor=(0, 0, 0))\n",
    "        plt.title(\"Spam words\")\n",
    "        plt.xlabel(\"\")\n",
    "        plt.ylabel(\"Word Count\")\n",
    "\n",
    "        plt.subplot(2, 1, 2)\n",
    "        n, bins, patches = plt.hist(self.token_ham_counts.values(),\n",
    "                                    200,\n",
    "                                    facecolor=\"#2E495E\",\n",
    "                                    edgecolor=(0, 0, 0))\n",
    "        plt.title(\"Ham words\")\n",
    "        plt.xlabel(\"\")\n",
    "        plt.ylabel(\"Word Count\")\n",
    "\n",
    "        plt.show()\n",
    "        \n",
    "    def predict(self, text: str) -> float:\n",
    "        text_tokens = tokenize(text)\n",
    "        log_prob_if_spam = log_prob_if_ham = 0.0\n",
    "\n",
    "        # Iterate through each word in our vocabulary.\n",
    "        for token in self.tokens:\n",
    "            prob_if_spam, prob_if_ham = self._probabilities(token)\n",
    "\n",
    "            # If *token* appears in the message,\n",
    "            # add the log probability of seeing it;\n",
    "            if token in text_tokens:\n",
    "                log_prob_if_spam += math.log(prob_if_spam)\n",
    "                log_prob_if_ham += math.log(prob_if_ham)\n",
    "\n",
    "            # otherwise add the log probability of _not_ seeing it\n",
    "            # which is log(1 - probability of seeing it)\n",
    "            else:\n",
    "                log_prob_if_spam += math.log(1.0 - prob_if_spam)\n",
    "                log_prob_if_ham += math.log(1.0 - prob_if_ham)\n",
    "\n",
    "        prob_if_spam = math.exp(log_prob_if_spam)\n",
    "        prob_if_ham = math.exp(log_prob_if_ham)\n",
    "        try :\n",
    "            posterior = prob_if_spam / (prob_if_spam + prob_if_ham)\n",
    "        except ZeroDivisionError:            \n",
    "            posterior = 0\n",
    "        \n",
    "        return posterior"
   ]
  },
  {
   "cell_type": "markdown",
   "metadata": {
    "id": "nLcGR34JWsq-"
   },
   "source": [
    "### 3.2 모델 훈련"
   ]
  },
  {
   "cell_type": "code",
   "execution_count": 13,
   "metadata": {
    "id": "QgNxx5sM7v7Z"
   },
   "outputs": [
    {
     "name": "stdout",
     "output_type": "stream",
     "text": [
      "229853 tokens are deleted in spams \n",
      "128010 tokens are deleted in hams \n",
      "spam  371\n",
      "ham  2105\n",
      "token 3225\n",
      "spam token 841\n",
      "ham token 3141\n",
      "======= token probabilities ======= \n",
      "extens (spam: 0.0013440860215053765 ham: 0.01828110161443495 )\n",
      "-0500 (spam: 0.0013440860215053765 ham: 0.014957264957264958 )\n",
      "arm (spam: 0.0013440860215053765 ham: 0.013532763532763533 )\n",
      "sidebar. (spam: 0.0013440860215053765 ham: 0.011633428300094967 )\n",
      "hardwar (spam: 0.0013440860215053765 ham: 0.04962013295346629 )\n",
      "switch (spam: 0.0013440860215053765 ham: 0.024453941120607788 )\n",
      "consist (spam: 0.0013440860215053765 ham: 0.011633428300094967 )\n",
      "only. (spam: 0.06317204301075269 ham: 0.00023741690408357076 )\n",
      "'m (spam: 0.04973118279569892 ham: 0.19776828110161443 )\n",
      "announc (spam: 0.0013440860215053765 ham: 0.03917378917378917 )\n"
     ]
    },
    {
     "data": {
      "image/png": "[encoded data removed]",
      "text/plain": [
       "<Figure size 1080x576 with 2 Axes>"
      ]
     },
     "metadata": {
      "needs_background": "light"
     },
     "output_type": "display_data"
    }
   ],
   "source": [
    "import random\n",
    "from scratch.machine_learning import split_data\n",
    "\n",
    "random.seed(0)      # just so you get the same answers as me\n",
    "train_messages, test_messages = split_data(data, 0.75)\n",
    "model = NaiveBayesClassifier()\n",
    "\n",
    "model.train(train_messages, 15)\n",
    "model.token_histogram()"
   ]
  },
  {
   "cell_type": "markdown",
   "metadata": {
    "id": "SEfBwdtiW0jl"
   },
   "source": [
    "### 3.3 예측 및 성능 평가"
   ]
  },
  {
   "cell_type": "markdown",
   "metadata": {},
   "source": [
    "#### 예측"
   ]
  },
  {
   "cell_type": "code",
   "execution_count": 14,
   "metadata": {
    "colab": {
     "base_uri": "https://localhost:8080/"
    },
    "id": "zD1zHTB6WwwN",
    "outputId": "d36cafe4-5447-4d40-e65d-abfed6a77832"
   },
   "outputs": [],
   "source": [
    "from collections import Counter\n",
    "\n",
    "predictions = [(message, model.predict(message.text))\n",
    "               for message in test_messages]"
   ]
  },
  {
   "cell_type": "markdown",
   "metadata": {},
   "source": [
    "#### 혼동 행렬"
   ]
  },
  {
   "cell_type": "code",
   "execution_count": 15,
   "metadata": {},
   "outputs": [
    {
     "name": "stdout",
     "output_type": "stream",
     "text": [
      "Counter({(False, False): 693, (True, True): 88, (True, False): 42, (False, True): 3})\n"
     ]
    }
   ],
   "source": [
    "# Assume that spam_probability > 0.5 corresponds to spam prediction\n",
    "# and count the combinations of (actual is_spam, predicted is_spam)\n",
    "confusion_matrix = Counter((message.is_spam, spam_probability > 0.5)\n",
    "                            for message, spam_probability in predictions)\n",
    "\n",
    "print(confusion_matrix)"
   ]
  },
  {
   "cell_type": "markdown",
   "metadata": {},
   "source": [
    "#### 정확도, 정밀도, 재현율 F1점수 (Q)\n",
    "혼동 행렬 결과를 이용해서 정확도, 정밀도, 재현율 F1점수를 계산해 보시오. "
   ]
  },
  {
   "cell_type": "code",
   "execution_count": 16,
   "metadata": {},
   "outputs": [
    {
     "name": "stdout",
     "output_type": "stream",
     "text": [
      "accuracy:  0.9455205811138014\n",
      "precision:  0.676923076923077\n",
      "recall:  0.967032967032967\n",
      "f1_score:  0.7963800904977376\n"
     ]
    }
   ],
   "source": [
    "from scratch.machine_learning import accuracy, precision, recall, f1_score\n",
    "\n",
    "# your code\n",
    "tp = confusion_matrix.get((True, True))\n",
    "tn = confusion_matrix.get((False, False))\n",
    "fp = confusion_matrix.get((True, False))\n",
    "fn = confusion_matrix.get((False, True))\n",
    "\n",
    "a = accuracy(tp,fp,fn,tn)\n",
    "p = precision(tp,fp,fn,tn)\n",
    "r = recall(tp,fp,fn,tn)\n",
    "f = f1_score(tp,fp,fn,tn)\n",
    "\n",
    "print(\"accuracy: \", a)\n",
    "print(\"precision: \", p)\n",
    "print(\"recall: \", r)\n",
    "print(\"f1_score: \", f)\n",
    "#print(list(confusion_matrix))"
   ]
  },
  {
   "cell_type": "markdown",
   "metadata": {
    "id": "fCQ-lqiiW4D0"
   },
   "source": [
    "### 3.4 스팸과 햄을 대표하는 단어 확인"
   ]
  },
  {
   "cell_type": "code",
   "execution_count": 17,
   "metadata": {
    "colab": {
     "base_uri": "https://localhost:8080/"
    },
    "id": "oTBcHk7RXCEE",
    "outputId": "8791d3be-72d5-4945-83c5-ee3bf9cd0261",
    "scrolled": true
   },
   "outputs": [
    {
     "name": "stdout",
     "output_type": "stream",
     "text": [
      "spammiest_words ['out', 'affili', 'frontpag', 'opt-in', 'valuabl', '/u', 'insur', 'charset=windows-1252', 'bordercolor=', 'ff0000']\n",
      "hammiest_words ['wrote', '_______________________________________________', \"b'url\", 'seem', 'sponsor', 'set', \"'d\", 'sep', 'they', 'version']\n"
     ]
    }
   ],
   "source": [
    "def p_spam_given_token(token: str, model: NaiveBayesClassifier) -> float:\n",
    "    # We probably shouldn't call private methods, but it's for a good cause.\n",
    "    prob_if_spam, prob_if_ham = model._probabilities(token)\n",
    "\n",
    "    return prob_if_spam / (prob_if_spam + prob_if_ham)\n",
    "\n",
    "words = sorted(model.tokens, key=lambda t: p_spam_given_token(t, model))\n",
    "\n",
    "print(\"spammiest_words\", words[-10:])\n",
    "print(\"hammiest_words\", words[:10])"
   ]
  }
 ],
 "metadata": {
  "colab": {
   "collapsed_sections": [],
   "name": "NaiveBayes.ipynb",
   "provenance": []
  },
  "kernelspec": {
   "display_name": "data_mining",
   "language": "python",
   "name": "data_mining"
  },
  "language_info": {
   "codemirror_mode": {
    "name": "ipython",
    "version": 3
   },
   "file_extension": ".py",
   "mimetype": "text/x-python",
   "name": "python",
   "nbconvert_exporter": "python",
   "pygments_lexer": "ipython3",
   "version": "3.8.8"
  }
 },
 "nbformat": 4,
 "nbformat_minor": 1
}
