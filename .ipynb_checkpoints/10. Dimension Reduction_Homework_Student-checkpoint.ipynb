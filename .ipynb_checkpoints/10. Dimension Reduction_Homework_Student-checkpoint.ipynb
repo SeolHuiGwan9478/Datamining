{
 "cells": [
  {
   "cell_type": "markdown",
   "metadata": {
    "id": "ESL7d6h-6cEI"
   },
   "source": [
    "# 10장. 차원 축소 (Dimension Reduction) 과제"
   ]
  },
  {
   "cell_type": "code",
   "execution_count": null,
   "metadata": {
    "id": "1TqZqPEKc7-P",
    "outputId": "344fe416-f110-4533-f21c-8c040ba0c8d5"
   },
   "outputs": [],
   "source": [
    "!pip install seaborn"
   ]
  },
  {
   "cell_type": "markdown",
   "metadata": {
    "id": "dfDvgQ88PS1E"
   },
   "source": [
    "## 1. 데이터셋"
   ]
  },
  {
   "cell_type": "code",
   "execution_count": null,
   "metadata": {
    "id": "vFlJfvRD8xtB"
   },
   "outputs": [],
   "source": [
    "import matplotlib.pyplot as plt\n",
    "import os\n",
    "from typing import List, Tuple\n",
    "import csv\n",
    "from scratch.linear_algebra import Vector, get_column"
   ]
  },
  {
   "cell_type": "markdown",
   "metadata": {
    "id": "DYn12fCQ8xtC"
   },
   "source": [
    "###  1.1 데이터셋 다운로드"
   ]
  },
  {
   "cell_type": "code",
   "execution_count": null,
   "metadata": {
    "id": "hr5q82Hr8xtC"
   },
   "outputs": [],
   "source": [
    "import requests\n",
    "\n",
    "dataset_path = os.path.join('data', 'wdbc.data')\n",
    "if os.path.exists(dataset_path) is False:\n",
    "    data = requests.get(\"https://archive.ics.uci.edu/ml/machine-learning-databases/breast-cancer-wisconsin/wdbc.data\")\n",
    "\n",
    "    with open(dataset_path, \"w\") as f:\n",
    "      f.write(data.text)"
   ]
  },
  {
   "cell_type": "markdown",
   "metadata": {
    "id": "t5Vvf__x8xtD"
   },
   "source": [
    "### 1.2 데이터 파싱"
   ]
  },
  {
   "cell_type": "code",
   "execution_count": null,
   "metadata": {
    "id": "k2x0p_DA8xtE"
   },
   "outputs": [],
   "source": [
    "def parse_cancer_row(row: List[str]) -> Tuple[Vector, int]:\n",
    "    measurements = [float(value) for value in row[2:]]\n",
    "    label = row[1]\n",
    "    label = 1 if label == 'M' else 0\n",
    "    return measurements, label"
   ]
  },
  {
   "cell_type": "markdown",
   "metadata": {
    "id": "8COK25wu9AMu"
   },
   "source": [
    "### 1.3 데이터 읽기\n",
    "위스콘신 유방암 진단 데이터셋  (Wisconsin Breast Cancer Diagnostic dataset)\n",
    "https://www.kaggle.com/uciml/breast-cancer-wisconsin-data"
   ]
  },
  {
   "cell_type": "code",
   "execution_count": null,
   "metadata": {
    "id": "uImHoZt09AMu"
   },
   "outputs": [],
   "source": [
    "X_cancer : List[Vector] = []\n",
    "y_cancer : List[int] = []\n",
    "with open(dataset_path) as f:\n",
    "    reader = csv.reader(f)\n",
    "    for row in reader:\n",
    "        x, y = parse_cancer_row(row)\n",
    "        X_cancer.append(x)\n",
    "        y_cancer.append(y)"
   ]
  },
  {
   "cell_type": "code",
   "execution_count": null,
   "metadata": {
    "id": "JAd1vO4RhbIt",
    "outputId": "4eab960f-806f-4c5d-f262-191ae7fe2b33"
   },
   "outputs": [],
   "source": [
    "print(X_cancer[0])\n",
    "print(y_cancer[0])"
   ]
  },
  {
   "cell_type": "markdown",
   "metadata": {
    "id": "J-c_q3gC8xtG"
   },
   "source": [
    "#### 1.4 데이터 컬럼명"
   ]
  },
  {
   "cell_type": "code",
   "execution_count": null,
   "metadata": {
    "executionInfo": {
     "elapsed": 1571,
     "status": "ok",
     "timestamp": 1620612269384,
     "user": {
      "displayName": "Seongjin Yoon",
      "photoUrl": "",
      "userId": "05896535080749314531"
     },
     "user_tz": -540
    },
    "id": "QhAjdkkW8xtH"
   },
   "outputs": [],
   "source": [
    "columns = [\n",
    "    \"radius_mean\", \"texture_mean\", \"perimeter_mean\", \"area_mean\", \"smoothness_mean\", \n",
    "    \"compactness_mean\", \"concavity_mean\", \"points_mean\", \"symmetry_mean\", \"dimension_mean\", \n",
    "    \"radius_se\", \"texture_se\", \"perimeter_se\", \"area_se\", \"smoothness_se\", \n",
    "    \"compactness_se\", \"concavity_se\", \"points_se\", \"symmetry_se\", \"dimension_se\", \n",
    "    \"radius_worst\", \"texture_worst\", \"perimeter_worst\", \"area_worst\", \"smoothness_worst\", \n",
    "    \"compactness_worst\", \"concavity_worst\", \"points_worst\", \"symmetry_worst\", \"dimension_worst\",\n",
    "    ]"
   ]
  },
  {
   "cell_type": "markdown",
   "metadata": {
    "id": "m3sNkSviJb5c"
   },
   "source": [
    "## 2. 데이터 탐색"
   ]
  },
  {
   "cell_type": "markdown",
   "metadata": {
    "id": "0xUWWNbb8xtJ"
   },
   "source": [
    "### 2.1 클래스 비율 확인"
   ]
  },
  {
   "cell_type": "code",
   "execution_count": null,
   "metadata": {
    "colab": {
     "base_uri": "https://localhost:8080/",
     "height": 244
    },
    "executionInfo": {
     "elapsed": 1793,
     "status": "error",
     "timestamp": 1620612271289,
     "user": {
      "displayName": "Seongjin Yoon",
      "photoUrl": "",
      "userId": "05896535080749314531"
     },
     "user_tz": -540
    },
    "id": "e80c72dR8xtJ",
    "outputId": "b47933e3-9302-4d11-839c-529829e19be1"
   },
   "outputs": [],
   "source": [
    "from collections import defaultdict\n",
    "label_type = defaultdict(int)\n",
    "for y in y_cancer:\n",
    "    label = 'M' if y == 1 else 'B'\n",
    "    label_type[label] += 1"
   ]
  },
  {
   "cell_type": "code",
   "execution_count": null,
   "metadata": {
    "id": "DCQmKmf18xtK",
    "outputId": "9cf3309e-1162-478d-f1ab-bf4a5a4e43f3"
   },
   "outputs": [],
   "source": [
    "plt.figure(figsize=(8,4))\n",
    "plt.subplot(1, 2, 1)\n",
    "plt.bar(label_type.keys(),\n",
    "        label_type.values(),\n",
    "        0.5,\n",
    "        facecolor=\"#2E495E\",\n",
    "        edgecolor=(0, 0, 0))                # Black edges for each bar\n",
    "\n",
    "plt.xlabel(\"Diagnosis\")\n",
    "plt.ylabel(\"# of diagnosis\")\n",
    "plt.title(\"Cancer diagnosis\")\n",
    "\n",
    "plt.subplot(1, 2, 2)\n",
    "pies = plt.pie(label_type.values(),\n",
    "               labels=label_type.keys(),\n",
    "               startangle=90)\n",
    "plt.legend()\n",
    "plt.show()"
   ]
  },
  {
   "cell_type": "markdown",
   "metadata": {
    "id": "u3OnoHoK8xtK"
   },
   "source": [
    "### 2.2 특징 별 히스토그램"
   ]
  },
  {
   "cell_type": "code",
   "execution_count": null,
   "metadata": {
    "id": "bxdQ0BlHA87V"
   },
   "outputs": [],
   "source": [
    "from matplotlib import pyplot as plt\n",
    "from typing import Dict\n",
    "\n",
    "def draw_histogram(data: List[Vector], \n",
    "                   column_names: List[str], \n",
    "                   max_columns: int = 5):\n",
    "    \n",
    "    num_variables = len(data[0])\n",
    "    num_rows = (num_variables-1)//max_columns + 1\n",
    "    num_cols = num_variables if num_rows == 1 else max_columns\n",
    "      \n",
    "    def get_ax(row, col):\n",
    "        if num_rows == 1 and num_cols == 1 :\n",
    "            current_ax = ax\n",
    "        elif num_rows == 1:\n",
    "            current_ax = ax[col]\n",
    "        else:\n",
    "            current_ax = ax[row][col]\n",
    "            \n",
    "        return current_ax\n",
    "    \n",
    "    def histogram(ax, data, column_name):\n",
    "\n",
    "        n, bins, patches = ax.hist(data,\n",
    "                                    8,\n",
    "                                    facecolor=\"#2E495E\",\n",
    "                                    edgecolor=(0, 0, 0)) \n",
    "\n",
    "        ax.set_title(column_name, fontsize=8)\n",
    "\n",
    "    fig, ax = plt.subplots(num_rows,\n",
    "                           num_cols, \n",
    "                           figsize=(num_cols*4, num_rows*4))\n",
    "\n",
    "    for row in range(num_rows):\n",
    "        for col in range(num_cols):\n",
    "            data_index = num_cols * row + col\n",
    "            current_ax = get_ax(row, col)\n",
    "            histogram(current_ax, \n",
    "                      get_column(data, data_index), \n",
    "                      column_names[data_index])\n",
    "\n",
    "    plt.show()"
   ]
  },
  {
   "cell_type": "code",
   "execution_count": null,
   "metadata": {
    "id": "aJyGM7ZDA87V",
    "outputId": "9c0f44d1-af6a-49c3-c2df-67b5b7b1b2a5"
   },
   "outputs": [],
   "source": [
    "draw_histogram(X_cancer, columns)"
   ]
  },
  {
   "cell_type": "markdown",
   "metadata": {
    "id": "xcPkxzs48xtM"
   },
   "source": [
    "### 2.3 특징 쌍 별 산포도"
   ]
  },
  {
   "cell_type": "code",
   "execution_count": null,
   "metadata": {
    "id": "G3217Q8oA87V"
   },
   "outputs": [],
   "source": [
    "from matplotlib import pyplot as plt\n",
    "import seaborn as sns\n",
    "\n",
    "def draw_scatter(points_by_class: Dict[str, List[Vector]], \n",
    "                 column_names: List[str], \n",
    "                 index_pairs: List[List], \n",
    "                 max_columns:int = 5):\n",
    "    \n",
    "    num_rows = (len(index_pairs)-1)//max_columns + 1\n",
    "    num_cols = len(index_pairs) if num_rows == 1 else max_columns\n",
    "    rgb_values = sns.color_palette(\"pastel\", len(points_by_class))\n",
    "\n",
    "    def get_ax(row, col):\n",
    "        if num_rows == 1 and num_cols == 1 :\n",
    "            current_ax = ax\n",
    "        elif num_rows == 1:\n",
    "            current_ax = ax[col]\n",
    "        else:\n",
    "            current_ax = ax[row][col]\n",
    "            \n",
    "        return current_ax\n",
    "\n",
    "    fig, ax = plt.subplots(num_rows,\n",
    "                           num_cols, \n",
    "                           figsize=(num_cols*5, num_rows*5))    \n",
    "    for row in range(num_rows):\n",
    "        for col in range(num_cols):\n",
    "            i, j = pairs[num_cols * row + col]\n",
    "            current_ax = get_ax(row, col)\n",
    "            current_ax.set_title(f\"{column_names[i]} vs {column_names[j]}\",\n",
    "                                 fontsize=8)\n",
    "            current_ax.set_xticks([])\n",
    "            current_ax.set_yticks([])\n",
    "\n",
    "            for k, (class_type, points) in enumerate(points_by_class.items()):\n",
    "                xs = [point[i] for point in points]\n",
    "                ys = [point[j] for point in points]\n",
    "                current_ax.scatter(xs,\n",
    "                                   ys, \n",
    "                                   color=rgb_values[k],\n",
    "                                   s=10,\n",
    "                                   label=class_type)\n",
    "\n",
    "    last_ax = get_ax(-1, -1)\n",
    "    last_ax.legend(loc='lower right', prop={'size': 8})\n",
    "    plt.show()"
   ]
  },
  {
   "cell_type": "code",
   "execution_count": null,
   "metadata": {
    "id": "YBtaMdnh8xtM"
   },
   "outputs": [],
   "source": [
    "from typing import Dict\n",
    "points_by_diagnosis: Dict[str, List[Vector]] = defaultdict(list)\n",
    "for i, x in enumerate(X_cancer):\n",
    "    y = y_cancer[i]\n",
    "    label = 'M' if y == 1 else 'B'\n",
    "    points_by_diagnosis[label].append(x)"
   ]
  },
  {
   "cell_type": "code",
   "execution_count": null,
   "metadata": {
    "id": "DRRLWQ478xtM",
    "outputId": "b94ade6c-19d7-4a02-af2e-cf6dd2eeb49a"
   },
   "outputs": [],
   "source": [
    "start = 0\n",
    "end = start + 10\n",
    "pairs = [(i, j) for i in range(start, end) for j in range(i+1, end) if i < j]\n",
    "print(pairs)"
   ]
  },
  {
   "cell_type": "code",
   "execution_count": null,
   "metadata": {
    "id": "PexZ_0XTA87W",
    "outputId": "baa3238b-154d-451a-8f75-f66daceacfd9"
   },
   "outputs": [],
   "source": [
    "draw_scatter(points_by_diagnosis, columns, pairs)"
   ]
  },
  {
   "cell_type": "markdown",
   "metadata": {
    "id": "pIKbgfUbs-wv"
   },
   "source": [
    "## 3. 데이터 전처리"
   ]
  },
  {
   "cell_type": "markdown",
   "metadata": {
    "id": "mVbl86I08xtP"
   },
   "source": [
    "### 3.1 데이터 표준화 (Standardization)"
   ]
  },
  {
   "cell_type": "code",
   "execution_count": null,
   "metadata": {
    "id": "qH6SAgB08xtP",
    "outputId": "20ee3ea2-a6b7-471c-fa8c-ce070449aefe"
   },
   "outputs": [],
   "source": [
    "from scratch.working_with_data import scale, rescale\n",
    "\n",
    "def normalization(data: List[Vector],\n",
    "                  means : Vector = None,\n",
    "                  stdevs : Vector = None) -> List[Vector]:\n",
    "    dim = len(data[0])\n",
    "    if means is None : \n",
    "        means, stdevs = scale(data)\n",
    "\n",
    "    rescaled = [v[:] for v in data]\n",
    "\n",
    "    for v in rescaled:\n",
    "        for i in range(dim):\n",
    "            if stdevs[i] > 0:\n",
    "                v[i] = (v[i] - means[i]) / stdevs[i]\n",
    "\n",
    "    return rescaled, means, stdevs"
   ]
  },
  {
   "cell_type": "markdown",
   "metadata": {
    "id": "F_vmjpt86cEV"
   },
   "source": [
    "## 4. 로지스틱 회귀"
   ]
  },
  {
   "cell_type": "markdown",
   "metadata": {
    "id": "a4m1tRe86cEg"
   },
   "source": [
    "### 4.1 모델 훈련 "
   ]
  },
  {
   "cell_type": "code",
   "execution_count": null,
   "metadata": {
    "id": "fSJGdXPChbI3"
   },
   "outputs": [],
   "source": [
    "import random\n",
    "import tqdm\n",
    "import IPython.display as display\n",
    "from scratch.linear_algebra import Vector, vector_mean, dot\n",
    "from scratch.gradient_descent import gradient_step\n",
    "from scratch.logistic_regression import logistic, negative_log_gradient\n",
    "from scratch.logistic_regression import negative_log_likelihood\n",
    "\n",
    "def logistic_regression(xs: List[Vector],\n",
    "                        ys: List[float],\n",
    "                        learning_rate: float = 0.001,\n",
    "                        num_steps: int = 1000,\n",
    "                        batch_size: int = 1) -> Vector:\n",
    "\n",
    "    # Start with a random guess\n",
    "    beta = [random.random() for _ in range(len(xs[0]))]\n",
    "\n",
    "    with tqdm.trange(num_steps) as t:\n",
    "        for epoch in t:\n",
    "            for start in range(0, len(xs), batch_size):\n",
    "                batch_xs = xs[start:start+batch_size]\n",
    "                batch_ys = ys[start:start+batch_size]\n",
    "\n",
    "                gradient = negative_log_gradient(batch_xs, batch_ys, beta)\n",
    "                beta = gradient_step(beta, gradient, -learning_rate)\n",
    "                loss = negative_log_likelihood(batch_xs, batch_ys, beta)\n",
    "            t.set_description(f\"epoch {epoch} : loss - {loss:.3f}\")\n",
    "\n",
    "    return beta"
   ]
  },
  {
   "cell_type": "markdown",
   "metadata": {
    "id": "Qa1FbSXG6cEj"
   },
   "source": [
    "### 4.2 모델 테스트"
   ]
  },
  {
   "cell_type": "code",
   "execution_count": null,
   "metadata": {
    "id": "IkxaFD5d6cEj"
   },
   "outputs": [],
   "source": [
    "def test(inputs, labels, beta):\n",
    "\n",
    "    TP = FP = FN = TN = 0\n",
    "    for x, y in zip(inputs, labels):\n",
    "        prediction = logistic(dot(beta, x))\n",
    "\n",
    "        if y == 1 and prediction >= 0.5:  # TP: paid and we predict paid\n",
    "            TP += 1\n",
    "        elif y == 1:                      # FN: paid and we predict unpaid\n",
    "            FN += 1\n",
    "        elif prediction >= 0.5:             # FP: unpaid and we predict paid\n",
    "            FP += 1\n",
    "        else:                               # TN: unpaid and we predict unpaid\n",
    "            TN += 1\n",
    "\n",
    "    confusion_matrix = [[TP, FP], [FN, TN]]\n",
    "    return confusion_matrix"
   ]
  },
  {
   "cell_type": "markdown",
   "metadata": {
    "id": "YaLYrQZwA87X"
   },
   "source": [
    "## 5. 차원 축소 적용"
   ]
  },
  {
   "cell_type": "markdown",
   "metadata": {
    "id": "k4ZE1FFrc7-Z"
   },
   "source": [
    "### 5.1 차원 축소"
   ]
  },
  {
   "cell_type": "code",
   "execution_count": null,
   "metadata": {
    "id": "aB_Jn8uic7-a",
    "outputId": "f30bde51-4423-4ca8-d868-88891f9e7dc6"
   },
   "outputs": [],
   "source": [
    "from scratch.working_with_data import pca, transform\n",
    "num_components = 2\n",
    "components = pca(X_cancer, num_components)\n",
    "X_cancer_dimension_reducted = transform(X_cancer, components)"
   ]
  },
  {
   "cell_type": "code",
   "execution_count": null,
   "metadata": {
    "id": "2BFhJnNGA87Y"
   },
   "outputs": [],
   "source": [
    "columns_dimension_reducted = ['Dim '+ str(i+1) for i in range(num_components)]"
   ]
  },
  {
   "cell_type": "markdown",
   "metadata": {
    "id": "juR_WXYHc7-a"
   },
   "source": [
    "### 5.2 차원 축소 후 특징 별 히스토그램"
   ]
  },
  {
   "cell_type": "code",
   "execution_count": null,
   "metadata": {
    "id": "nQ5bxDv0c7-a",
    "outputId": "f2ce27ed-cb42-4675-c9fe-d7b44908ae42"
   },
   "outputs": [],
   "source": [
    "draw_histogram(X_cancer_dimension_reducted, columns_dimension_reducted)"
   ]
  },
  {
   "cell_type": "markdown",
   "metadata": {
    "id": "vLHC6HBYc7-a"
   },
   "source": [
    "### 5.3 차원 축소 후 특징 쌍 별 산포도"
   ]
  },
  {
   "cell_type": "code",
   "execution_count": null,
   "metadata": {
    "id": "FxsJON7Vc7-a"
   },
   "outputs": [],
   "source": [
    "from typing import Dict\n",
    "points_by_diagnosis_reducted: Dict[str, List[Vector]] = defaultdict(list)\n",
    "for i, x in enumerate(X_cancer_dimension_reducted):\n",
    "    y = y_cancer[i]\n",
    "    label = 'M' if y == 1 else 'B'\n",
    "    points_by_diagnosis_reducted[label].append(x)"
   ]
  },
  {
   "cell_type": "code",
   "execution_count": null,
   "metadata": {
    "id": "3ZP4i-6mc7-b",
    "outputId": "89516f5a-051b-4d0b-9c7a-a76eeb518343"
   },
   "outputs": [],
   "source": [
    "start = 0\n",
    "end = start + num_components\n",
    "reducted_pairs = [(i, j) for i in range(start, end) \n",
    "                         for j in range(i+1, end) if i < j]\n",
    "print(reducted_pairs)"
   ]
  },
  {
   "cell_type": "code",
   "execution_count": null,
   "metadata": {
    "id": "caQnfUzJA87Z",
    "outputId": "98a19f5f-4a1d-4aa7-bb6a-515aa733c6dd"
   },
   "outputs": [],
   "source": [
    "draw_scatter(points_by_diagnosis_reducted, columns_dimension_reducted, reducted_pairs)"
   ]
  },
  {
   "cell_type": "markdown",
   "metadata": {
    "id": "fEYUN_I2A87Z"
   },
   "source": [
    "### 5.4 차원 축소 후 회귀 분석  (Q1)\n",
    "차원 축소 후 회귀 분석을 하는 코드를 작성하시오."
   ]
  },
  {
   "cell_type": "code",
   "execution_count": null,
   "metadata": {
    "id": "6k4zQSnsA87Z"
   },
   "outputs": [],
   "source": [
    "import random\n",
    "from scratch.machine_learning import train_test_split\n",
    "from typing import Tuple\n",
    "\n",
    "def logistic_regression_dimension_reduction(\n",
    "                        xs: List[Vector],\n",
    "                        ys: List[float],\n",
    "                        num_components: int) -> Tuple[List[Vector], Vector, List[List]]:\n",
    "    # 1. 차원 축소\n",
    "    # your code\n",
    "\n",
    "    # 2. 데이터 분할\n",
    "    random.seed(12)\n",
    "    # your code\n",
    "\n",
    "    # 3. 데이터 표준화\n",
    "    # your code\n",
    "\n",
    "    # 4. 회귀 분석 밑 테스트\n",
    "    # your code\n",
    "    \n",
    "    return xs_dimension_reducted, beta, confusion_matrix"
   ]
  },
  {
   "cell_type": "markdown",
   "metadata": {},
   "source": [
    "2차원에 대해서 테스트 했을 때 결과는 다음과 같이 나오는 것을 확인해 보세요.\n",
    "* [[36, 0], [15, 92]]\n",
    "* accuracy : 0.8951048951048951\n",
    "* precision : 1.0\n",
    "* recall : 0.7058823529411765\n",
    "* f1_score : 0.8275862068965517"
   ]
  },
  {
   "cell_type": "code",
   "execution_count": null,
   "metadata": {
    "id": "2hSaoyEtA87Z",
    "outputId": "43e79282-6e75-4a94-d417-d392fa531574"
   },
   "outputs": [],
   "source": [
    "from scratch.machine_learning import accuracy, precision, recall, f1_score\n",
    "num_components = 2\n",
    "X_cancer_dimension_reducted, beta, confusion_matrix = \\\n",
    "    logistic_regression_dimension_reduction(X_cancer, y_cancer, num_components)\n",
    "\n",
    "# 성능 분석\n",
    "print(confusion_matrix)\n",
    "[TP, FP], [FN, TN] = confusion_matrix\n",
    "print(\"accuracy :\", accuracy(TP, FP, FN, TN))\n",
    "print(\"precision :\", precision(TP, FP, FN, TN))\n",
    "print(\"recall :\", recall(TP, FP, FN, TN))\n",
    "print(\"f1_score :\", f1_score(TP, FP, FN, TN))"
   ]
  },
  {
   "cell_type": "markdown",
   "metadata": {
    "id": "Sf2m6GNZt7NS"
   },
   "source": [
    "## 6. 최적의 차원 찾기 (Q2)\n",
    "1차원에서 15차원까지 각 차원 별로 성능을 확인하고 성능 그래프를 그려보시오."
   ]
  },
  {
   "cell_type": "code",
   "execution_count": null,
   "metadata": {
    "id": "ae0ir4tec7-g"
   },
   "outputs": [],
   "source": [
    "from scratch.machine_learning import accuracy, precision, recall, f1_score\n",
    "\n",
    "start_num_components = 1\n",
    "end_num_components = 31\n",
    "\n",
    "# your code"
   ]
  }
 ],
 "metadata": {
  "colab": {
   "collapsed_sections": [],
   "name": "10. Dimension Reduction_Homework2.ipynb",
   "provenance": [],
   "toc_visible": true
  },
  "kernelspec": {
   "display_name": "data_mining",
   "language": "python",
   "name": "data_mining"
  },
  "language_info": {
   "codemirror_mode": {
    "name": "ipython",
    "version": 3
   },
   "file_extension": ".py",
   "mimetype": "text/x-python",
   "name": "python",
   "nbconvert_exporter": "python",
   "pygments_lexer": "ipython3",
   "version": "3.8.8"
  }
 },
 "nbformat": 4,
 "nbformat_minor": 1
}
